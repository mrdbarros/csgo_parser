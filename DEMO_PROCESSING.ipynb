{
 "cells": [
  {
   "cell_type": "markdown",
   "metadata": {},
   "source": [
    "# DEMO PROCESSING"
   ]
  },
  {
   "cell_type": "code",
   "execution_count": 1,
   "metadata": {},
   "outputs": [],
   "source": [
    "%reload_ext autoreload\n",
    "%autoreload 2\n",
    "%matplotlib inline\n"
   ]
  },
  {
   "cell_type": "code",
   "execution_count": 2,
   "metadata": {},
   "outputs": [],
   "source": [
    "import asyncio\n",
    "from fastai import *\n",
    "from fastai.text import *\n",
    "import sys,os,os.path\n",
    "import re"
   ]
  },
  {
   "cell_type": "code",
   "execution_count": 6,
   "metadata": {},
   "outputs": [],
   "source": [
    "base_dir='/home/jupyter/mrdbarros/data/CSGO'\n",
    "dest_dir='/home/jupyter/mrdbarros/csgo_analyze/data/Raw'\n",
    "bash_files = '/home/jupyter/mrdbarros/csgo_analyze/bash_go_execution*'\n",
    "tick_rate=128\n",
    "batch_execution_file='bash_go_execution'\n",
    "parallel_size=80"
   ]
  },
  {
   "cell_type": "code",
   "execution_count": 7,
   "metadata": {},
   "outputs": [],
   "source": [
    "#export\n",
    "file_id = 1\n",
    "parsing_list = []\n",
    "execution_list =[]\n",
    "delete_dir = dest_dir + \"/*\"\n",
    "!rm -rf {delete_dir}\n",
    "!rm -f  {bash_files}\n",
    "for r, d, f in os.walk(base_dir):\n",
    "    for file in f:\n",
    "        if '.dem' in file:\n",
    "            full_file = os.path.join(r,file)\n",
    "            parsing_list.append(full_file)\n",
    "            \n",
    "file_count=1\n",
    "for file_name in parsing_list:\n",
    "    \n",
    "    execution_list.append(\"go run print_game_state.go \"+file_name+\" \"+str(file_id)+\" \"+dest_dir+\" \"+str(tick_rate)+ \" &\")\n",
    "    \n",
    "    if file_id%parallel_size==0:\n",
    "        with open(batch_execution_file+\"_\"+str(file_count)+'.sh', 'w+') as f:\n",
    "            for item in execution_list:\n",
    "                f.write(\"%s\\n\" % item)\n",
    "        os.chmod(batch_execution_file+\"_\"+str(file_count)+'.sh', 0o700)\n",
    "        execution_list=[]\n",
    "        file_count+=1\n",
    "    \n",
    "    file_id+=1\n",
    "\n",
    "\n",
    "        \n"
   ]
  },
  {
   "cell_type": "code",
   "execution_count": null,
   "metadata": {},
   "outputs": [],
   "source": []
  }
 ],
 "metadata": {
  "kernelspec": {
   "display_name": "Python 3",
   "language": "python",
   "name": "python3"
  },
  "language_info": {
   "codemirror_mode": {
    "name": "ipython",
    "version": 3
   },
   "file_extension": ".py",
   "mimetype": "text/x-python",
   "name": "python",
   "nbconvert_exporter": "python",
   "pygments_lexer": "ipython3",
   "version": "3.7.4"
  }
 },
 "nbformat": 4,
 "nbformat_minor": 2
}
